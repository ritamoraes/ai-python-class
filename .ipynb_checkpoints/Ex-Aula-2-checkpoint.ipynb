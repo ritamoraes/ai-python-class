{
 "cells": [
  {
   "cell_type": "code",
   "execution_count": 1,
   "metadata": {},
   "outputs": [],
   "source": [
    "from calc import media"
   ]
  },
  {
   "cell_type": "code",
   "execution_count": 4,
   "metadata": {
    "scrolled": true
   },
   "outputs": [
    {
     "name": "stdout",
     "output_type": "stream",
     "text": [
      "38.5\n"
     ]
    }
   ],
   "source": [
    "l = [23, 54, 31, 77, 12, 34]\n",
    "print(media(l))"
   ]
  },
  {
   "cell_type": "code",
   "execution_count": 5,
   "metadata": {},
   "outputs": [
    {
     "data": {
      "text/plain": [
       "6"
      ]
     },
     "execution_count": 5,
     "metadata": {},
     "output_type": "execute_result"
    }
   ],
   "source": [
    "import teste\n",
    "teste.soma(3,3)"
   ]
  },
  {
   "cell_type": "code",
   "execution_count": 6,
   "metadata": {},
   "outputs": [
    {
     "data": {
      "text/plain": [
       "'teste'"
      ]
     },
     "execution_count": 6,
     "metadata": {},
     "output_type": "execute_result"
    }
   ],
   "source": [
    "teste.__name__"
   ]
  },
  {
   "cell_type": "code",
   "execution_count": 8,
   "metadata": {},
   "outputs": [
    {
     "name": "stdout",
     "output_type": "stream",
     "text": [
      "time.struct_time(tm_year=2018, tm_mon=12, tm_mday=15, tm_hour=11, tm_min=9, tm_sec=44, tm_wday=5, tm_yday=349, tm_isdst=1)\n",
      "Sat Dec 15 11:09:44 2018\n",
      "\n",
      "Espera 3 segundos e imprime na tela\n",
      "\n",
      "\n",
      "Espera 3 segundos e imprime na tela\n",
      "\n",
      "\n",
      "Espera 3 segundos e imprime na tela\n",
      "\n",
      "\n",
      "Espera 3 segundos e imprime na tela\n",
      "\n",
      "\n",
      "Espera 3 segundos e imprime na tela\n",
      "\n"
     ]
    }
   ],
   "source": [
    "import time\n",
    "print (time.localtime())\n",
    "print (time.asctime())\n",
    "for x  in range(5):\n",
    "    time.sleep(3)\n",
    "    print('\\nEspera 3 segundos e imprime na tela\\n')"
   ]
  },
  {
   "cell_type": "code",
   "execution_count": 9,
   "metadata": {},
   "outputs": [
    {
     "name": "stdout",
     "output_type": "stream",
     "text": [
      "Data: 2020-12-31\n",
      "Hora: 23:59:59\n",
      "Quanto tempo falta para 31/12/2020:  747 days, 12:42:54.693813\n",
      "1 ano a partir de agora será: 2019-12-15 11:17:04.306651\n"
     ]
    }
   ],
   "source": [
    "import datetime\n",
    "from datetime import timedelta\n",
    "\n",
    "dt = datetime.datetime(2020, 12, 31, 23, 59, 59)\n",
    "data = dt.date()\n",
    "hora = dt.time()\n",
    "\n",
    "dd = dt - dt.today()\n",
    "\n",
    "print ('Data:', data)\n",
    "print ('Hora:', hora)\n",
    "print ('Quanto tempo falta para 31/12/2020: ', dd)\n",
    "print ('1 ano a partir de agora será: '+str(datetime.datetime.now() + timedelta(days=365)))\n"
   ]
  },
  {
   "cell_type": "code",
   "execution_count": 10,
   "metadata": {},
   "outputs": [
    {
     "name": "stdout",
     "output_type": "stream",
     "text": [
      "Queen, Aerosmith & Beatles -> ['Queen', 'Aerosmith', 'Beatles']\n",
      "Phone Num :  2004959559\n",
      "Phone Num :  2004959559\n"
     ]
    }
   ],
   "source": [
    "import re\n",
    "\n",
    "rex = re.compile('\\w+')\n",
    "bandas = 'Queen, Aerosmith & Beatles'\n",
    "print(bandas, '->', rex.findall(bandas))\n",
    "phone = \"2004-959-559 # This is Phone Number\"\n",
    "num = re.sub(r'\\D',\"\", phone)\n",
    "print(\"Phone Num : \", num)\n",
    "num = re.sub(r'\\D', \"\", phone)\n",
    "print(\"Phone Num : \", num)"
   ]
  },
  {
   "cell_type": "code",
   "execution_count": 11,
   "metadata": {},
   "outputs": [
    {
     "name": "stdout",
     "output_type": "stream",
     "text": [
      "4\n",
      "6\n"
     ]
    }
   ],
   "source": [
    "quadrado = lambda num: num ** 2\n",
    "multiplicacao = lambda x,y: x*y\n",
    "\n",
    "print(quadrado(2))\n",
    "print(multiplicacao(2,3))"
   ]
  },
  {
   "cell_type": "code",
   "execution_count": 20,
   "metadata": {},
   "outputs": [
    {
     "name": "stdout",
     "output_type": "stream",
     "text": [
      "[2.23606797749979, 1.7320508075688772, 2.6457513110645907, 5.830951894845301, 8.18535277187245, 3.4641016151377544]\n",
      "[0.6989700043360189, 0.47712125471966244, 0.8450980400142568, 1.5314789170422551, 1.8260748027008264, 1.0791812460476249]\n"
     ]
    }
   ],
   "source": [
    "import math\n",
    "from math import log10\n",
    "lista = [5,3,7,34,67,12]\n",
    "print(list(map(math.sqrt, lista)))\n",
    "print(list(map(log10, lista)))\n"
   ]
  }
 ],
 "metadata": {
  "kernelspec": {
   "display_name": "Python 3",
   "language": "python",
   "name": "python3"
  },
  "language_info": {
   "codemirror_mode": {
    "name": "ipython",
    "version": 3
   },
   "file_extension": ".py",
   "mimetype": "text/x-python",
   "name": "python",
   "nbconvert_exporter": "python",
   "pygments_lexer": "ipython3",
   "version": "3.6.6"
  }
 },
 "nbformat": 4,
 "nbformat_minor": 2
}
