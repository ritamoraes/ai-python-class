{
 "cells": [
  {
   "cell_type": "markdown",
   "metadata": {},
   "source": [
    "### Desafio 1"
   ]
  },
  {
   "cell_type": "code",
   "execution_count": 12,
   "metadata": {},
   "outputs": [],
   "source": [
    "from math import pi\n",
    "class Circulo:\n",
    "    def __init__(self, raio):\n",
    "        self.raio = raio\n",
    "    @property   \n",
    "    def area(self):\n",
    "        return pi * (self.raio ** 2)\n",
    "    @property\n",
    "    def perimetro(self):\n",
    "        return 2*pi*self.raio  "
   ]
  },
  {
   "cell_type": "code",
   "execution_count": 13,
   "metadata": {},
   "outputs": [
    {
     "name": "stdout",
     "output_type": "stream",
     "text": [
      "50.26548245743669\n",
      "25.132741228718345\n"
     ]
    }
   ],
   "source": [
    "circulo1 = Circulo(4)\n",
    "print(circulo1.area)\n",
    "print(circulo1.perimetro)"
   ]
  },
  {
   "cell_type": "markdown",
   "metadata": {},
   "source": [
    "### Desafio 2"
   ]
  },
  {
   "cell_type": "code",
   "execution_count": 19,
   "metadata": {},
   "outputs": [],
   "source": [
    "class Quadrado:\n",
    "    def __init__(self, lado):\n",
    "        self.lado = lado\n",
    "    \n",
    "    @property\n",
    "    def area(self):\n",
    "        return self.lado*self.lado"
   ]
  },
  {
   "cell_type": "code",
   "execution_count": 22,
   "metadata": {},
   "outputs": [
    {
     "name": "stdout",
     "output_type": "stream",
     "text": [
      "Lado:  3  Area:  9\n",
      "Lado:  2  Area:  4\n"
     ]
    }
   ],
   "source": [
    "mesa = Quadrado(3)\n",
    "print('Lado: ',mesa.lado,' Area: ',mesa.area)\n",
    "\n",
    "mesa.lado = 2\n",
    "print('Lado: ',mesa.lado,' Area: ',mesa.area)"
   ]
  },
  {
   "cell_type": "markdown",
   "metadata": {},
   "source": [
    "### Desafio 3"
   ]
  },
  {
   "cell_type": "code",
   "execution_count": 43,
   "metadata": {},
   "outputs": [],
   "source": [
    "class Carro:\n",
    "    def __init__(self, consumo, combustivel = 0):\n",
    "        self.consumo = consumo\n",
    "        self.combustivel = combustivel\n",
    "        \n",
    "    def mover(self, km):\n",
    "        self.combustivel -= km/self.consumo\n",
    "          \n",
    "    @property\n",
    "    def gasolina(self):\n",
    "         if(self.combustivel <= 0):\n",
    "            return 'Pane seca'\n",
    "         else:\n",
    "            return self.combustivel\n",
    "    \n",
    "    def abastecer(self, gasolina):\n",
    "        self.combustivel += gasolina"
   ]
  },
  {
   "cell_type": "code",
   "execution_count": 47,
   "metadata": {},
   "outputs": [
    {
     "name": "stdout",
     "output_type": "stream",
     "text": [
      "Pane seca\n",
      "2.5\n",
      "2.0\n",
      "0.5\n",
      "Pane seca\n",
      "3.0\n"
     ]
    }
   ],
   "source": [
    "meucarro = Carro(2)\n",
    "meucarro.mover(2)\n",
    "print(meucarro.gasolina)\n",
    "meucarro.abastecer(5)\n",
    "meucarro.mover(3)\n",
    "print(meucarro.gasolina)\n",
    "meucarro.mover(1)\n",
    "print(meucarro.gasolina)\n",
    "meucarro.mover(3)\n",
    "print(meucarro.gasolina)\n",
    "meucarro.mover(1)\n",
    "print(meucarro.gasolina)\n",
    "meucarro.abastecer(5)\n",
    "meucarro.mover(4)\n",
    "print(meucarro.gasolina)"
   ]
  }
 ],
 "metadata": {
  "kernelspec": {
   "display_name": "Python 3",
   "language": "python",
   "name": "python3"
  },
  "language_info": {
   "codemirror_mode": {
    "name": "ipython",
    "version": 3
   },
   "file_extension": ".py",
   "mimetype": "text/x-python",
   "name": "python",
   "nbconvert_exporter": "python",
   "pygments_lexer": "ipython3",
   "version": "3.6.6"
  }
 },
 "nbformat": 4,
 "nbformat_minor": 2
}
