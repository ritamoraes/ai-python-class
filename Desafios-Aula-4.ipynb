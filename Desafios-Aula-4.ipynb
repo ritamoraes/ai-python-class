{
 "cells": [
  {
   "cell_type": "markdown",
   "metadata": {},
   "source": [
    "### Desafio 1"
   ]
  },
  {
   "cell_type": "code",
   "execution_count": 22,
   "metadata": {},
   "outputs": [
    {
     "name": "stdout",
     "output_type": "stream",
     "text": [
      "[ 1.76405235  0.40015721  0.97873798  2.2408932   1.86755799 -0.97727788\n",
      "  0.95008842 -0.15135721 -0.10321885  0.4105985   0.14404357  1.45427351\n",
      "  0.76103773  0.12167502  0.44386323  0.33367433  1.49407907 -0.20515826\n",
      "  0.3130677  -0.85409574]\n",
      "0.5693345929456347\n",
      "0.8501828003994658\n",
      "0.7228107940950779\n",
      "2.240893199201458\n",
      "-0.977277879876411\n",
      "11.386691858912695\n"
     ]
    }
   ],
   "source": [
    "import numpy as np\n",
    "np.random.seed(0)\n",
    "listaNumerosAleatorios = np.random.normal(size=20)\n",
    "print(listaNumerosAleatorios)\n",
    "print(listaNumerosAleatorios.mean())\n",
    "print(listaNumerosAleatorios.std())\n",
    "print(listaNumerosAleatorios.var())\n",
    "print(listaNumerosAleatorios.max())\n",
    "print(listaNumerosAleatorios.min())\n",
    "print(listaNumerosAleatorios.sum())"
   ]
  },
  {
   "cell_type": "markdown",
   "metadata": {},
   "source": [
    "#### Solução do professor"
   ]
  },
  {
   "cell_type": "code",
   "execution_count": null,
   "metadata": {},
   "outputs": [],
   "source": []
  },
  {
   "cell_type": "markdown",
   "metadata": {},
   "source": [
    "### Desafio 2"
   ]
  },
  {
   "cell_type": "code",
   "execution_count": 20,
   "metadata": {},
   "outputs": [
    {
     "name": "stdout",
     "output_type": "stream",
     "text": [
      "Array 1:  [0 1 2 3 4 5 6 7 8 9]\n",
      "Array 2:  [10 11 12 13 14 15 16 17 18 19]\n",
      "Soma:  [10 12 14 16 18 20 22 24 26 28]\n",
      "Subtrai:  [-10 -10 -10 -10 -10 -10 -10 -10 -10 -10]\n",
      "Multiplica [  0  11  24  39  56  75  96 119 144 171]\n",
      "Divide [0.         0.09090909 0.16666667 0.23076923 0.28571429 0.33333333\n",
      " 0.375      0.41176471 0.44444444 0.47368421]\n",
      "Soma prof:  [10 12 14 16 18 20 22 24 26 28]\n",
      "Subtrai prof:  [-10 -10 -10 -10 -10 -10 -10 -10 -10 -10]\n",
      "Multiplica prof: [  0  11  24  39  56  75  96 119 144 171]\n",
      "Divide prof: [0.         0.09090909 0.16666667 0.23076923 0.28571429 0.33333333\n",
      " 0.375      0.41176471 0.44444444 0.47368421]\n"
     ]
    }
   ],
   "source": [
    "array1 = np.arange(10)\n",
    "array2 = np.arange(10, 20)\n",
    "print('Array 1: ', array1)\n",
    "print('Array 2: ', array2)\n",
    "arrSoma = np.add(array1, array2)\n",
    "arrSubtrai = np.subtract(array1, array2)\n",
    "arrMultiplica = np.multiply(array1, array2)\n",
    "arrDivide = np.divide(array1, array2)\n",
    "print('Soma: ', arrSoma)\n",
    "print('Subtrai: ', arrSubtrai)\n",
    "print('Multiplica', arrMultiplica)\n",
    "print('Divide', arrDivide)\n",
    "\n",
    "print('Soma prof: ', array1+array2)\n",
    "print('Subtrai prof: ', array1-array2)\n",
    "print('Multiplica prof:', array1*array2)\n",
    "print('Divide prof:', array1/array2)"
   ]
  },
  {
   "cell_type": "code",
   "execution_count": null,
   "metadata": {},
   "outputs": [],
   "source": []
  }
 ],
 "metadata": {
  "kernelspec": {
   "display_name": "Python 3",
   "language": "python",
   "name": "python3"
  },
  "language_info": {
   "codemirror_mode": {
    "name": "ipython",
    "version": 3
   },
   "file_extension": ".py",
   "mimetype": "text/x-python",
   "name": "python",
   "nbconvert_exporter": "python",
   "pygments_lexer": "ipython3",
   "version": "3.6.4"
  }
 },
 "nbformat": 4,
 "nbformat_minor": 2
}
